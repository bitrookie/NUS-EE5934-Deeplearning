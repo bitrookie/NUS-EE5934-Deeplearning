{
 "cells": [
  {
   "cell_type": "markdown",
   "metadata": {},
   "source": [
    "# Assignment 1: K- Nearest Neighbours (K-NN)\n",
    "In this assignment, you are required to implement a k-NN classifier to perform image classification on the USPS dataset. First, set up the environment and load the dataset as follows."
   ]
  },
  {
   "cell_type": "code",
   "execution_count": 1,
   "metadata": {},
   "outputs": [],
   "source": [
    "# Run this cell to set up the environment and data\n",
    "\n",
    "import os\n",
    "import sys\n",
    "sys.path.append(\"../../homework/\")\n",
    "\n",
    "import matplotlib.pyplot as plt\n",
    "import numpy as np\n",
    "\n",
    "%load_ext autoreload\n",
    "%autoreload 2\n",
    "\n",
    "# Load the USPS data\n",
    "usps_dir = \"../data/usps.h5\"\n",
    "import h5py\n",
    "with h5py.File(usps_dir, 'r') as hf:\n",
    "        train = hf.get('train')\n",
    "        trainX = train.get('data')[:]\n",
    "        trainy = train.get('target')[:]\n",
    "        test = hf.get('test')\n",
    "        testX = test.get('data')[:]\n",
    "        testy = test.get('target')[:]\n",
    "        \n",
    "# A small subset of USPS for you to run kNN on\n",
    "# as kNN is a little bit slow\n",
    "sub_trainX, sub_trainy = trainX[:5000], trainy[:5000]\n",
    "sub_testX, sub_testy = testX[:1000], testy[:1000]\n"
   ]
  },
  {
   "cell_type": "markdown",
   "metadata": {},
   "source": [
    "## kNN\n",
    "Next, implement the k-NN classifier which consists of the following two stages:\n",
    "- **Training stage**: k-NN classifier loads the training data and remembers it;\n",
    "- **Testing stage**: k-NN classifies every test image by comparing with all training images and transferring the labels of the `k` most similar training examples.\n"
   ]
  },
  {
   "cell_type": "markdown",
   "metadata": {},
   "source": [
    "### Training Stage:"
   ]
  },
  {
   "cell_type": "code",
   "execution_count": 2,
   "metadata": {},
   "outputs": [],
   "source": [
    "from knn import KNN\n",
    "\n",
    "classifier = KNN()\n",
    "classifier.train(sub_trainX, sub_trainy)"
   ]
  },
  {
   "cell_type": "markdown",
   "metadata": {},
   "source": [
    "### Testing Stage:\n",
    "\n",
    "Implement the k-NN classifier by completing the class method `KNN.predict` in `homework/Assignment1/knn.py` and evaluate the k-NN classification error."
   ]
  },
  {
   "cell_type": "code",
   "execution_count": 3,
   "metadata": {
    "scrolled": true
   },
   "outputs": [
    {
     "name": "stdout",
     "output_type": "stream",
     "text": [
      "Accuracy:  0.942\n"
     ]
    }
   ],
   "source": [
    "y_pred = classifier.predict(sub_testX, k=1)\n",
    "\n",
    "acc = np.sum(y_pred == sub_testy) / len(sub_testy)\n",
    "print(\"Accuracy: \", acc)"
   ]
  },
  {
   "cell_type": "markdown",
   "metadata": {},
   "source": [
    "## Cross Validation:\n",
    "To find the best `k`, it is tempting to test different `k` on the test data. However, this leads to **overfitting** the test data.\n",
    "\n",
    "Read [Section 5.3.1](https://www.deeplearningbook.org/contents/ml.html) of the *Deep Learning* book for information about **cross validation** which is a technique for testing a model on unseen data. \n",
    "\n",
    "Complete the cell below to carry out cross-validation as follows: split the training data and the corresponding labels into 5 subsets(folds), and then do a 5-fold cross validation to test different values of `k`."
   ]
  },
  {
   "cell_type": "code",
   "execution_count": 4,
   "metadata": {},
   "outputs": [
    {
     "name": "stdout",
     "output_type": "stream",
     "text": [
      "k = 1, accuracy = 0.960000\n",
      "k = 1, accuracy = 0.975000\n",
      "k = 1, accuracy = 0.950000\n",
      "k = 1, accuracy = 0.953000\n",
      "k = 1, accuracy = 0.961000\n",
      "k = 2, accuracy = 0.957000\n",
      "k = 2, accuracy = 0.975000\n",
      "k = 2, accuracy = 0.947000\n",
      "k = 2, accuracy = 0.937000\n",
      "k = 2, accuracy = 0.948000\n",
      "k = 3, accuracy = 0.957000\n",
      "k = 3, accuracy = 0.973000\n",
      "k = 3, accuracy = 0.950000\n",
      "k = 3, accuracy = 0.954000\n",
      "k = 3, accuracy = 0.958000\n",
      "k = 4, accuracy = 0.951000\n",
      "k = 4, accuracy = 0.972000\n",
      "k = 4, accuracy = 0.946000\n",
      "k = 4, accuracy = 0.948000\n",
      "k = 4, accuracy = 0.952000\n",
      "k = 5, accuracy = 0.955000\n",
      "k = 5, accuracy = 0.969000\n",
      "k = 5, accuracy = 0.946000\n",
      "k = 5, accuracy = 0.950000\n",
      "k = 5, accuracy = 0.954000\n",
      "k = 7, accuracy = 0.950000\n",
      "k = 7, accuracy = 0.967000\n",
      "k = 7, accuracy = 0.943000\n",
      "k = 7, accuracy = 0.938000\n",
      "k = 7, accuracy = 0.953000\n",
      "k = 9, accuracy = 0.947000\n",
      "k = 9, accuracy = 0.964000\n",
      "k = 9, accuracy = 0.938000\n",
      "k = 9, accuracy = 0.936000\n",
      "k = 9, accuracy = 0.943000\n",
      "k = 12, accuracy = 0.940000\n",
      "k = 12, accuracy = 0.960000\n",
      "k = 12, accuracy = 0.931000\n",
      "k = 12, accuracy = 0.932000\n",
      "k = 12, accuracy = 0.936000\n",
      "k = 15, accuracy = 0.931000\n",
      "k = 15, accuracy = 0.953000\n",
      "k = 15, accuracy = 0.920000\n",
      "k = 15, accuracy = 0.926000\n",
      "k = 15, accuracy = 0.935000\n",
      "k = 18, accuracy = 0.933000\n",
      "k = 18, accuracy = 0.953000\n",
      "k = 18, accuracy = 0.919000\n",
      "k = 18, accuracy = 0.926000\n",
      "k = 18, accuracy = 0.933000\n",
      "k = 22, accuracy = 0.926000\n",
      "k = 22, accuracy = 0.946000\n",
      "k = 22, accuracy = 0.915000\n",
      "k = 22, accuracy = 0.917000\n",
      "k = 22, accuracy = 0.928000\n",
      "k = 26, accuracy = 0.923000\n",
      "k = 26, accuracy = 0.942000\n",
      "k = 26, accuracy = 0.908000\n",
      "k = 26, accuracy = 0.910000\n",
      "k = 26, accuracy = 0.927000\n",
      "k = 30, accuracy = 0.918000\n",
      "k = 30, accuracy = 0.938000\n",
      "k = 30, accuracy = 0.904000\n",
      "k = 30, accuracy = 0.906000\n",
      "k = 30, accuracy = 0.920000\n"
     ]
    }
   ],
   "source": [
    "# k_to_accuracies is a dictionary to hold the classification accuracies obtained when\n",
    "# running cross-validation for different values of k. After running cross-validation,\n",
    "# k_to_accuracies[k] would comprise 5 classification accuracy values found for the \n",
    "# particular value of k.\n",
    "k_to_accuracies = {}\n",
    "\n",
    "################################################################################\n",
    "# TODO:     WRITE CODE FOR THE FOLLOWING                                       #\n",
    "# Perform 5-fold cross validation to find the best value of k as follows: for  #\n",
    "# each value of k being considered, run the k-NN algorithm 5 times where in    #\n",
    "# each run, one fold is used as validation data while the other folds are      #\n",
    "# used as training data. Store the accuracies for all folds for each value     #\n",
    "# of k in the k_to_accuracies dictionary.                                      #\n",
    "################################################################################\n",
    "k_cands = [1,2,3,4,5,7,9,12,15,18,22,26,30]\n",
    "trainX_folds = np.split(sub_trainX,5)\n",
    "trainy_folds = np.split(sub_trainy,5)\n",
    "\n",
    "for k in k_cands:\n",
    "    accs = []\n",
    "    for i in range(5):\n",
    "        trainX_fold = trainX_folds.copy()\n",
    "        trainy_fold = trainy_folds.copy()\n",
    "        valX_fold = trainX_fold.pop(i)\n",
    "        valy_fold = trainy_fold.pop(i)\n",
    "        trainX_fold = np.concatenate(trainX_fold)\n",
    "        trainy_fold = np.concatenate(trainy_fold)\n",
    "        classifier.train(trainX_fold, trainy_fold)\n",
    "        y_pred = classifier.predict(valX_fold, k)\n",
    "        acc = np.sum(y_pred == valy_fold) / len(valy_fold)\n",
    "        accs.append(acc)\n",
    "    k_to_accuracies[k] = accs\n",
    "################################################################################\n",
    "#                                 END OF YOUR CODE                             #\n",
    "################################################################################\n",
    "\n",
    "# Print out the computed accuracies\n",
    "for k in sorted(k_to_accuracies):\n",
    "    for accuracy in k_to_accuracies[k]:\n",
    "        print('k = %d, accuracy = %f' % (k, accuracy))"
   ]
  },
  {
   "cell_type": "code",
   "execution_count": 5,
   "metadata": {},
   "outputs": [
    {
     "data": {
      "image/png": "[encoded data removed]",
      "text/plain": [
       "<Figure size 432x288 with 1 Axes>"
      ]
     },
     "metadata": {
      "needs_background": "light"
     },
     "output_type": "display_data"
    }
   ],
   "source": [
    "# visualize the results above.\n",
    "\n",
    "################################################################################\n",
    "# TODO:     WRITE CODE FOR THE FOLLOWING                                       #\n",
    "# To better understand the influence of different k values,                    #\n",
    "# show the above printed results in the scatter plot and then plot the trend   #\n",
    "# with error bars that correspond to standard deviation.                       #\n",
    "################################################################################\n",
    "import matplotlib.pyplot as plt\n",
    "# scatter plot\n",
    "for k in k_cands:\n",
    "    plt.scatter([k]*5,k_to_accuracies[k])\n",
    "\n",
    "acc_means = []\n",
    "acc_stds = []\n",
    "for k in k_cands:\n",
    "    acc_means.append(np.mean(k_to_accuracies[k]))\n",
    "    acc_stds.append(np.std(k_to_accuracies[k]))\n",
    "    \n",
    "plt.errorbar(k_cands,acc_means,yerr=acc_stds)\n",
    "################################################################################\n",
    "#                                 END OF YOUR CODE                             #\n",
    "################################################################################\n",
    "plt.title('Cross-validation on k')\n",
    "plt.xlabel('k')\n",
    "plt.ylabel('Cross-validation accuracy')\n",
    "plt.show()"
   ]
  },
  {
   "cell_type": "code",
   "execution_count": 6,
   "metadata": {},
   "outputs": [
    {
     "name": "stdout",
     "output_type": "stream",
     "text": [
      "accuracy: 0.942000\n"
     ]
    }
   ],
   "source": [
    "################################################################################\n",
    "# TODO:                                                                        #\n",
    "# Based on the cross-validation results above, identify the best value for k   #\n",
    "# and apply it to \"best_k\" below. Then, retrain the classifier using all the   #\n",
    "# training data, and test it on the test data.                                 #\n",
    "################################################################################\n",
    "best_k = 1\n",
    "################################################################################\n",
    "#                                 END OF YOUR CODE                             #\n",
    "################################################################################\n",
    "\n",
    "classifier = KNN()\n",
    "classifier.train(sub_trainX, sub_trainy)\n",
    "y_test_pred = classifier.predict(sub_testX, k=best_k)\n",
    "\n",
    "# Compute and display the accuracy\n",
    "accuracy = np.sum(y_test_pred == sub_testy) / len(sub_testy)\n",
    "print('accuracy: %f' % accuracy)"
   ]
  },
  {
   "cell_type": "markdown",
   "metadata": {},
   "source": [
    "**Inline question:**\n",
    "\n",
    "In practice, why do we often choose an odd number for `k`? Give your answer below."
   ]
  },
  {
   "cell_type": "markdown",
   "metadata": {},
   "source": [
    "As we can see from *figure-the Cross-validation on k*, it has obvious vallys as `k = 2,4,12`. The ambiguity will happend when the test point has equal number voters of different classes. If we choose odd number, that case will not happen."
   ]
  }
 ],
 "metadata": {
  "kernelspec": {
   "display_name": "Python 3",
   "language": "python",
   "name": "python3"
  },
  "language_info": {
   "codemirror_mode": {
    "name": "ipython",
    "version": 3
   },
   "file_extension": ".py",
   "mimetype": "text/x-python",
   "name": "python",
   "nbconvert_exporter": "python",
   "pygments_lexer": "ipython3",
   "version": "3.7.5"
  }
 },
 "nbformat": 4,
 "nbformat_minor": 2
}
